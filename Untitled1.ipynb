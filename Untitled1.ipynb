{
  "nbformat": 4,
  "nbformat_minor": 0,
  "metadata": {
    "colab": {
      "provenance": []
    },
    "kernelspec": {
      "name": "python3",
      "display_name": "Python 3"
    },
    "language_info": {
      "name": "python"
    }
  },
  "cells": [
    {
      "cell_type": "code",
      "execution_count": 8,
      "metadata": {
        "id": "2JYMp_qq40rG",
        "colab": {
          "base_uri": "https://localhost:8080/"
        },
        "outputId": "ed774555-22a6-45b6-c95a-e6d9bf83ee97"
      },
      "outputs": [
        {
          "output_type": "stream",
          "name": "stdout",
          "text": [
            "<class 'pandas.core.frame.DataFrame'>\n",
            "RangeIndex: 1259 entries, 0 to 1258\n",
            "Data columns (total 11 columns):\n",
            " #   Column       Non-Null Count  Dtype  \n",
            "---  ------       --------------  -----  \n",
            " 0   Area         1259 non-null   float64\n",
            " 1   BHK          1259 non-null   int64  \n",
            " 2   Bathroom     1257 non-null   float64\n",
            " 3   Furnishing   1254 non-null   object \n",
            " 4   Locality     1259 non-null   object \n",
            " 5   Parking      1226 non-null   float64\n",
            " 6   Price        1259 non-null   int64  \n",
            " 7   Status       1259 non-null   object \n",
            " 8   Transaction  1259 non-null   object \n",
            " 9   Type         1254 non-null   object \n",
            " 10  Per_Sqft     1018 non-null   float64\n",
            "dtypes: float64(4), int64(2), object(5)\n",
            "memory usage: 108.3+ KB\n"
          ]
        },
        {
          "output_type": "execute_result",
          "data": {
            "text/plain": [
              "(    Area  BHK  Bathroom      Furnishing  \\\n",
              " 0  800.0    3       2.0  Semi-Furnished   \n",
              " 1  750.0    2       2.0  Semi-Furnished   \n",
              " 2  950.0    2       2.0       Furnished   \n",
              " 3  600.0    2       2.0  Semi-Furnished   \n",
              " 4  650.0    2       2.0  Semi-Furnished   \n",
              " \n",
              "                                             Locality  Parking     Price  \\\n",
              " 0                                   Rohini Sector 25      1.0   6500000   \n",
              " 1             J R Designers Floors, Rohini Sector 24      1.0   5000000   \n",
              " 2                Citizen Apartment, Rohini Sector 13      1.0  15500000   \n",
              " 3                                   Rohini Sector 24      1.0   4200000   \n",
              " 4  Rohini Sector 24 carpet area 650 sqft status R...      1.0   6200000   \n",
              " \n",
              "           Status   Transaction           Type  Per_Sqft  \n",
              " 0  Ready_to_move  New_Property  Builder_Floor       NaN  \n",
              " 1  Ready_to_move  New_Property      Apartment    6667.0  \n",
              " 2  Ready_to_move        Resale      Apartment    6667.0  \n",
              " 3  Ready_to_move        Resale  Builder_Floor    6667.0  \n",
              " 4  Ready_to_move  New_Property  Builder_Floor    6667.0  ,\n",
              " None)"
            ]
          },
          "metadata": {},
          "execution_count": 8
        }
      ],
      "source": [
        "import pandas as pd\n",
        "\n",
        "# Load the dataset\n",
        "file_path = '/mnt/data/dataset.csv.csv'\n",
        "df = pd.read_csv(\"/content/dataset.csv.csv\")\n",
        "\n",
        "# Display the first few rows of the dataset to understand its structure\n",
        "df.head(),df.info()\n"
      ]
    },
    {
      "cell_type": "code",
      "source": [
        "# Dropping unnecessary columns\n",
        "columns_to_drop = ['Furnishing', 'Locality', 'Status', 'Transaction', 'Type', 'Per_Sqft']\n",
        "df_cleaned = df.drop(columns=columns_to_drop)\n",
        "\n",
        "# Handling missing data by dropping rows with any missing values\n",
        "df_cleaned = df_cleaned.dropna()\n",
        "\n",
        "# Display the cleaned data summary\n",
        "df_cleaned.info(), df_cleaned.head()"
      ],
      "metadata": {
        "id": "OaihcPSo52Ix",
        "colab": {
          "base_uri": "https://localhost:8080/"
        },
        "outputId": "3e7eddab-9540-469e-f998-af27c54471b3"
      },
      "execution_count": 9,
      "outputs": [
        {
          "output_type": "stream",
          "name": "stdout",
          "text": [
            "<class 'pandas.core.frame.DataFrame'>\n",
            "Index: 1226 entries, 0 to 1258\n",
            "Data columns (total 5 columns):\n",
            " #   Column    Non-Null Count  Dtype  \n",
            "---  ------    --------------  -----  \n",
            " 0   Area      1226 non-null   float64\n",
            " 1   BHK       1226 non-null   int64  \n",
            " 2   Bathroom  1226 non-null   float64\n",
            " 3   Parking   1226 non-null   float64\n",
            " 4   Price     1226 non-null   int64  \n",
            "dtypes: float64(3), int64(2)\n",
            "memory usage: 57.5 KB\n"
          ]
        },
        {
          "output_type": "execute_result",
          "data": {
            "text/plain": [
              "(None,\n",
              "     Area  BHK  Bathroom  Parking     Price\n",
              " 0  800.0    3       2.0      1.0   6500000\n",
              " 1  750.0    2       2.0      1.0   5000000\n",
              " 2  950.0    2       2.0      1.0  15500000\n",
              " 3  600.0    2       2.0      1.0   4200000\n",
              " 4  650.0    2       2.0      1.0   6200000)"
            ]
          },
          "metadata": {},
          "execution_count": 9
        }
      ]
    },
    {
      "cell_type": "code",
      "source": [
        "from sklearn.model_selection import train_test_split\n",
        "from sklearn.linear_model import LinearRegression\n",
        "from sklearn.metrics import mean_squared_error, r2_score\n",
        "\n",
        "# Splitting the data into features (X) and target (y)\n",
        "X = df_cleaned.drop(columns=['Price'])\n",
        "y = df_cleaned['Price']\n",
        "\n",
        "# Splitting the data into training and testing sets\n",
        "X_train, X_test, y_train, y_test = train_test_split(X, y, test_size=0.2, random_state=42)\n",
        "\n",
        "# Creating the linear regression model\n",
        "model = LinearRegression()\n",
        "\n",
        "# Training the model\n",
        "model.fit(X_train, y_train)\n",
        "\n",
        "# Making predictions on the test set\n",
        "y_pred = model.predict(X_test)\n",
        "\n",
        "# Evaluating the model\n",
        "mse = mean_squared_error(y_test, y_pred)\n",
        "r2 = r2_score(y_test, y_pred)\n",
        "\n",
        "mse, r2"
      ],
      "metadata": {
        "id": "_aPLaS515676",
        "colab": {
          "base_uri": "https://localhost:8080/"
        },
        "outputId": "93af2a4a-b9f1-4b45-b155-f4c88a00c8e2"
      },
      "execution_count": 10,
      "outputs": [
        {
          "output_type": "execute_result",
          "data": {
            "text/plain": [
              "(434435087586415.06, 0.5767196544670078)"
            ]
          },
          "metadata": {},
          "execution_count": 10
        }
      ]
    }
  ]
}